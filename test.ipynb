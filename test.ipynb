{
 "cells": [
  {
   "cell_type": "code",
   "execution_count": null,
   "id": "9e904da1",
   "metadata": {},
   "outputs": [],
   "source": [
    "from plots.plot_utils import load_pickle\n",
    "example_pkl = \"/home/scratch/yixiz/results/test_seeds/boston/test/boston_lossbatch_int_ens1_bootFalse_resFalse_lnFalse_bnFalse_dr0.0_lr0.001_bs64_nl2_hs64_4.pkl\"\n",
    "baseline_names = ['batch_qr', 'batch_int', 'batch_cal']\n",
    "seeds = [0, 1, 2, 3, 4]\n",
    "seed_pkls = [example_pkl.replace(\"_4\", \"_{}\".format(seed)) for seed in seeds]\n",
    "print(seed_pkls)\n",
    "import numpy as np\n",
    "def get_quantile_seed_idxs(seed_pkls, quantile=0.5):\n",
    "    datas = [load_pickle(pkl) for pkl in seed_pkls]\n",
    "    va_sharp_score_thresholded = np.full((5, 150), 1.0)\n",
    "    for i, data in enumerate(datas):\n",
    "        va_sharp_score_thresholded[i, -len(data['va_sharp_score_thresholded']):] = data['va_sharp_score_thresholded']\n",
    "\n",
    "    order = np.argsort(va_sharp_score_thresholded, axis=0)\n",
    "    q_idx = int(quantile * len(seed_pkls) - 1)\n",
    "    quantile_seed_idxs = order[q_idx, np.arange(order.shape[1])]\n",
    "    return quantile_seed_idxs\n",
    "\n",
    "def aggregate_seeds(seed_pkls, quantile=0.5):\n",
    "    datas = [load_pickle(pkl) for pkl in seed_pkls]\n",
    "    \n",
    "    quantile_seed_idxs = get_quantile_seed_idxs(seed_pkls, quantile)\n",
    "\n",
    "    te_sharp_score_thresholded = np.full((5, 150), 1.0)\n",
    "    te_ece_thresholded = np.full((5, 150), 1.0)\n",
    "    va_sharp_score_thresholded = np.full((5, 150), 1.0)\n",
    "    va_ece_thresholded = np.full((5, 150), 1.0)\n",
    "    for i, data in enumerate(datas):\n",
    "        te_sharp_score_thresholded[i, -len(data['te_sharp_score_thresholded']):] = data['te_sharp_score_thresholded']\n",
    "        te_ece_thresholded[i, -len(data['te_ece_thresholded']):] = data['te_ece_thresholded']\n",
    "        va_sharp_score_thresholded[i, -len(data['va_sharp_score_thresholded']):] = data['va_sharp_score_thresholded']\n",
    "        va_ece_thresholded[i, -len(data['va_ece_thresholded']):] = data['va_ece_thresholded']\n",
    "\n",
    "    # retrieve test scores based on quantile seed idxs\n",
    "    threshold_to_test_ece_sharp = {}\n",
    "    for thres_idx, threshold in enumerate(np.linspace(0.001, 0.15, 150)):\n",
    "        seed_idx = quantile_seed_idxs[thres_idx]\n",
    "        te_ece = te_ece_thresholded[seed_idx, thres_idx]\n",
    "        te_sharp = te_sharp_score_thresholded[seed_idx, thres_idx]\n",
    "        va_ece = va_ece_thresholded[seed_idx, thres_idx]\n",
    "        va_sharp = va_sharp_score_thresholded[seed_idx, thres_idx]\n",
    "        if te_ece == 1.0 and te_sharp == 1.0:\n",
    "            continue\n",
    "        threshold_to_test_ece_sharp[float(threshold)] = {'te_ece': float(te_ece), 'te_sharp_score': float(te_sharp),\n",
    "                                                         'va_ece': float(va_ece), \"va_sharp_score\": float(va_sharp)}\n",
    "    \n",
    "    return threshold_to_test_ece_sharp\n",
    "\n",
    "import matplotlib.pyplot as plt\n",
    "def plot_and_compute_mean_deviation(threshold_to_test_ece_sharp, baseline_name, dataset):\n",
    "    te_ece = [dic['te_ece'] for dic in threshold_to_test_ece_sharp.values()]\n",
    "    va_ece = [dic['va_ece'] for dic in threshold_to_test_ece_sharp.values()]\n",
    "    thresholds = list(threshold_to_test_ece_sharp.keys()) \n",
    "    below_thres_prop = len([dic['te_ece'] - thres for thres, dic in threshold_to_test_ece_sharp.items() if dic['te_ece'] <= thres]) / float(len(te_ece))\n",
    "    mean_exceedance = np.mean([dic['te_ece'] - thres for thres, dic in threshold_to_test_ece_sharp.items() if dic['te_ece'] > thres])\n",
    "    plt.scatter(thresholds, np.maximum(np.array(te_ece) - np.array(thresholds), 0), label=f\"{baseline_name}: p-{below_thres_prop:.1%} m-{mean_exceedance:.3f}\")\n",
    "    plt.title(f\"{dataset} - p=proportion of below threshold; m=mean exceedance (only counting exceeding points)\")\n",
    "    plt.xlabel('ECE Threshold')\n",
    "    plt.ylabel('ECE max(Test - Threshold, 0)')\n",
    "    plt.legend()\n",
    "    return below_thres_prop, mean_exceedance"
   ]
  },
  {
   "cell_type": "code",
   "execution_count": null,
   "id": "b7ca41ba",
   "metadata": {},
   "outputs": [],
   "source": [
    "baseline_data = {}\n",
    "for baseline_name in baseline_names:\n",
    "    pkl_cal = example_pkl.replace(\"batch_int\", baseline_name)\n",
    "    seed_pkls = [pkl_cal.replace(\"_4\", \"_{}\".format(seed)) for seed in seeds]\n",
    "    baseline_aggregated = aggregate_seeds(seed_pkls, quantile=0.0)\n",
    "    below_thres_prop, mean_exceedance = plot_and_compute_mean_deviation(baseline_aggregated, baseline_name, \"boston\")\n",
    "    print(f\"{baseline_name}: {below_thres_prop}, {mean_exceedance}\")\n",
    "    baseline_data[baseline_name] = baseline_aggregated\n",
    "plt.show()\n",
    "plt.close()\n",
    "\n",
    "import matplotlib.pyplot as plt\n",
    "for baseline_name, baseline_aggregated in baseline_data.items():\n",
    "    te_ece = [dic['te_ece'] for dic in baseline_aggregated.values()]\n",
    "    te_sharp = [dic['te_sharp_score'] for dic in baseline_aggregated.values()]\n",
    "    plt.scatter(te_ece, te_sharp, label=baseline_name)\n",
    "plt.legend()"
   ]
  },
  {
   "cell_type": "code",
   "execution_count": null,
   "id": "3dc95d31",
   "metadata": {},
   "outputs": [],
   "source": [
    "sorted([dic['te_ece'] for dic in threshold_to_test_ece_sharp.values()])"
   ]
  },
  {
   "cell_type": "code",
   "execution_count": null,
   "id": "069343e8",
   "metadata": {},
   "outputs": [],
   "source": [
    "from plots.plot_utils import load_pickle\n",
    "from data.fetch_data import get_uci_data\n",
    "pkl_cal = load_pickle(\"boston_lossbatch_cal_ens1_bootFalse_resFalse_lnFalse_bnFalse_dr0.0_lr0.001_bs64_nl8_hs256_0.pkl\")\n",
    "pkl_int = load_pickle(\"boston_lossbatch_int_ens1_bootFalse_resFalse_lnFalse_bnFalse_dr0.0_lr0.001_bs64_nl8_hs256_0.pkl\")\n",
    "pkl_qr = load_pickle(\"boston_lossbatch_qr_ens1_bootFalse_resFalse_lnFalse_bnFalse_dr0.0_lr0.001_bs64_nl8_hs256_0.pkl\")"
   ]
  },
  {
   "cell_type": "code",
   "execution_count": null,
   "id": "3a91b6eb",
   "metadata": {},
   "outputs": [],
   "source": [
    "print(len(pkl_cal['te_cali_score_controlled']), len(pkl_int['te_cali_score_controlled']), len(pkl_qr['te_cali_score_controlled']))\n",
    "print(len(pkl_cal['te_ece_controlled']), len(pkl_int['te_ece_controlled']), len(pkl_qr['te_ece_controlled']))\n",
    "pkl_qr['te_cali_score_controlled']"
   ]
  },
  {
   "cell_type": "code",
   "execution_count": null,
   "id": "5e6a1b9b",
   "metadata": {},
   "outputs": [],
   "source": [
    "import matplotlib.pyplot as plt\n",
    "\n",
    "plt.plot(pkl_cal['te_ece_controlled'], pkl_cal['te_sharp_score_controlled'])\n",
    "plt.plot(pkl_int['te_ece_controlled'], pkl_int['te_sharp_score_controlled'])\n",
    "plt.plot(pkl_qr['te_ece_controlled'], pkl_qr['te_sharp_score_controlled'])\n",
    "plt.legend(['cal', 'int', 'qr'])\n",
    "plt.xlabel('Test ECE')"
   ]
  },
  {
   "cell_type": "code",
   "execution_count": null,
   "id": "6ab5b627",
   "metadata": {},
   "outputs": [],
   "source": [
    "plt.plot(pkl_qr['recal_te_ece_controlled'], pkl_qr['recal_te_sharp_score_controlled'])\n",
    "plt.plot(pkl_int['recal_te_ece_controlled'], pkl_int['recal_te_sharp_score_controlled'])\n",
    "plt.plot(pkl_cal['recal_te_ece_controlled'], pkl_cal['recal_te_sharp_score_controlled'])\n",
    "plt.legend(['qr', 'int', 'cal'])\n",
    "plt.xlabel('Recalibrated Test ECE')"
   ]
  },
  {
   "cell_type": "code",
   "execution_count": null,
   "id": "e3bd78c7",
   "metadata": {},
   "outputs": [],
   "source": [
    "plt.plot(range(len(pkl_qr['va_ece_list'])), pkl_qr['va_ece_list'])\n",
    "plt.xlabel('Validation ECE')\n",
    "plt.plot(range(len(pkl_cal['va_ece_list'])), pkl_cal['va_ece_list'])\n",
    "plt.legend(['qr', 'cal'])\n",
    "plt.xlabel('Epoch')"
   ]
  },
  {
   "cell_type": "code",
   "execution_count": null,
   "id": "372df2ff",
   "metadata": {},
   "outputs": [],
   "source": [
    "plt.plot(pkl_qr['va_ece_controlled'], pkl_qr['te_ece_controlled'])\n",
    "plt.plot(pkl_int['va_ece_controlled'], pkl_int['te_ece_controlled'])\n",
    "plt.plot(pkl_cal['va_ece_controlled'], pkl_cal['te_ece_controlled'])\n",
    "# y = x\n",
    "plt.plot([0.03, 0.15], [0.03, 0.15], 'k--')\n",
    "plt.legend(['qr', 'int', 'cal'])\n",
    "plt.xlabel('Validation ECE')\n",
    "#!/usr/bin/env python3"
   ]
  },
  {
   "cell_type": "code",
   "execution_count": null,
   "id": "1fdc9bfe",
   "metadata": {},
   "outputs": [],
   "source": [
    "len(pkl_qr['va_ece_controlled']), len(pkl_int['va_ece_controlled']), len(pkl_cal['va_ece_controlled'])"
   ]
  },
  {
   "cell_type": "code",
   "execution_count": null,
   "id": "0fe4f37e",
   "metadata": {},
   "outputs": [],
   "source": [
    "from plots.plot_utils import load_pickle\n",
    "from pathlib import Path\n",
    "import os\n",
    "\n",
    "experiment_home = Path(\"/home/scratch/yixiz/results/lump\")\n",
    "all_pkl = experiment_home.glob(\"**/*.pkl\")\n",
    "\n",
    "for pkl in all_pkl:\n",
    "    print(pkl)\n",
    "    try:\n",
    "        data = load_pickle(pkl)\n",
    "    except Exception as e:\n",
    "        print(f\"{pkl} can't load: {e}\")"
   ]
  },
  {
   "cell_type": "code",
   "execution_count": null,
   "id": "dae2e92d",
   "metadata": {},
   "outputs": [],
   "source": [
    "from plots.plot_utils import load_pickle\n",
    "from pathlib import Path\n",
    "import os\n",
    "import matplotlib.pyplot as plt\n",
    "\n",
    "experiment_home = Path(\"/home/scratch/yixiz/results/lump\")\n",
    "all_pkl = experiment_home.glob(\"**/*.pkl\")\n",
    "\n",
    "for pkl in all_pkl:\n",
    "    # print loss curve and ece curve\n",
    "    try:\n",
    "        data = load_pickle(pkl)\n",
    "        plt.plot(data['tr_loss_list'], label='train loss')\n",
    "        plt.plot(data['va_ece_list'], label='val ece')\n",
    "        plt.legend()\n",
    "        plt.title(pkl)\n",
    "        plt.show()\n",
    "    except Exception as e:\n",
    "        print(f\"{pkl} can't load: {e}\")"
   ]
  },
  {
   "cell_type": "code",
   "execution_count": null,
   "id": "30166137",
   "metadata": {},
   "outputs": [],
   "source": [
    "from plots.plot_utils import load_pickle\n",
    "from pathlib import Path\n",
    "import os\n",
    "import matplotlib.pyplot as plt\n",
    "\n",
    "\n",
    "experiment_home = Path(\"/home/scratch/yixiz/results/lump\")\n",
    "all_pkl = experiment_home.glob(\"**/*.pkl\")\n",
    "\n",
    "for pkl in all_pkl:\n",
    "    # calculate max(te_ece_controlled - va_ece_controlled, 0) as ece_exceedance and save back to pkl\n",
    "    try:\n",
    "        data = load_pickle(pkl)\n",
    "        if 'te_ece_controlled' in data and 'va_ece_controlled' in data:\n",
    "            te_ece = data['te_ece_controlled']\n",
    "            va_ece = data['va_ece_controlled']\n",
    "            ece_exceedance = [max(te - va, 0) for te, va in zip(te_ece, va_ece)]\n",
    "            data['ece_exceedance'] = ece_exceedance\n",
    "            # save back to pkl\n",
    "            import pickle\n",
    "            with open(pkl, 'wb') as f:\n",
    "                pickle.dump(data, f)\n",
    "            print(f\"Saved ece_exceedance to {pkl}\")    \n",
    "    except Exception as e:\n",
    "        print(f\"{pkl} can't load: {e}\")"
   ]
  },
  {
   "cell_type": "code",
   "execution_count": 11,
   "id": "7cad2b04",
   "metadata": {},
   "outputs": [
    {
     "data": {
      "text/plain": [
       "<matplotlib.legend.Legend at 0x7f6b3d5375b0>"
      ]
     },
     "execution_count": 11,
     "metadata": {},
     "output_type": "execute_result"
    },
    {
     "data": {
      "image/png": "[encoded data removed]",
      "text/plain": [
       "<Figure size 640x480 with 1 Axes>"
      ]
     },
     "metadata": {},
     "output_type": "display_data"
    }
   ],
   "source": [
    "# see if residual layer is actually doing anything computaionally\n",
    "from plots.plot_utils import load_pickle\n",
    "\n",
    "pkl_w_res = load_pickle(\"boston_lossscaled_batch_cal_ens1_bootFalse_resTrue_lnFalse_bnFalse_dr0.0_lr0.001_bs64_nl1_hs32_0.pkl\")\n",
    "pkl_wo_res = load_pickle(\"boston_lossscaled_batch_cal_ens1_bootFalse_resFalse_lnFalse_bnFalse_dr0.0_lr0.001_bs64_nl1_hs32_0.pkl\")\n",
    "from matplotlib import pyplot as plt\n",
    "\n",
    "plt.plot(pkl_w_res['te_ece_controlled'], label='with res')\n",
    "plt.plot(pkl_wo_res['te_ece_controlled'], label='without res')\n",
    "plt.legend()"
   ]
  },
  {
   "cell_type": "code",
   "execution_count": null,
   "id": "43e27f55",
   "metadata": {},
   "outputs": [],
   "source": []
  }
 ],
 "metadata": {
  "kernelspec": {
   "display_name": "cali",
   "language": "python",
   "name": "python3"
  },
  "language_info": {
   "codemirror_mode": {
    "name": "ipython",
    "version": 3
   },
   "file_extension": ".py",
   "mimetype": "text/x-python",
   "name": "python",
   "nbconvert_exporter": "python",
   "pygments_lexer": "ipython3",
   "version": "3.10.18"
  }
 },
 "nbformat": 4,
 "nbformat_minor": 5
}
