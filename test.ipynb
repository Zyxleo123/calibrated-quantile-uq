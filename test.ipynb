{
 "cells": [
  {
   "cell_type": "code",
   "execution_count": null,
   "id": "10122686",
   "metadata": {},
   "outputs": [],
   "source": [
    "from plots.plot_utils import load_pickle\n",
    "data = load_pickle(\"boston_lossscaled_batch_cal_ens1_bootFalse_seed0_thres0.01-0.15.pkl\")"
   ]
  },
  {
   "cell_type": "code",
   "execution_count": null,
   "id": "e1177eb7",
   "metadata": {},
   "outputs": [],
   "source": [
    "for entry in zip(data['te_ece_list_best'], data['te_sharp_score_list_best']):\n",
    "    print(entry)"
   ]
  },
  {
   "cell_type": "code",
   "execution_count": null,
   "id": "d4932751",
   "metadata": {},
   "outputs": [],
   "source": [
    "from utils.misc_utils import EceSharpFrontier\n",
    "frontier = EceSharpFrontier.from_list(list(zip(data['te_ece_list_best'], data['te_sharp_score_list_best'])), only_frontier=True)"
   ]
  },
  {
   "cell_type": "code",
   "execution_count": null,
   "id": "30ce21b1",
   "metadata": {},
   "outputs": [],
   "source": [
    "thresholded_frontiers = frontier.get_thresholded_frontier()\n",
    "import matplotlib.pyplot as plt\n",
    "# [{'ece': 0.07363636363636362, 'sharp': 0.0935474103877344, 'model': None},\n",
    "# {'ece': 0.07505050505050503, 'sharp': 0.0935474103877344, 'model': None},\n",
    "ece_list = [entry['ece'] for entry in thresholded_frontiers]\n",
    "sharp_list = [entry['sharp'] for entry in thresholded_frontiers]\n",
    "\n",
    "plt.scatter(ece_list, sharp_list)"
   ]
  },
  {
   "cell_type": "code",
   "execution_count": null,
   "id": "26429cbc",
   "metadata": {},
   "outputs": [],
   "source": [
    "for entry in zip(data['thresholds'], data['va_ece_list_best'], data['va_sharp_score_list_best']):\n",
    "    print(entry)"
   ]
  },
  {
   "cell_type": "code",
   "execution_count": null,
   "id": "9a66e5f5",
   "metadata": {},
   "outputs": [],
   "source": [
    "len(data['thresholds'])"
   ]
  },
  {
   "cell_type": "code",
   "execution_count": null,
   "id": "b00c6791",
   "metadata": {},
   "outputs": [],
   "source": [
    "import glob\n",
    "pkls = glob.glob(\"results/boston*.pkl\")\n",
    "from plots.plot_utils import load_pickle \n",
    "objs = []\n",
    "for pkl in pkls:\n",
    "    data = load_pickle(pkl)\n",
    "    objs.append((data, str(pkl)))\n"
   ]
  },
  {
   "cell_type": "code",
   "execution_count": null,
   "id": "023b013a",
   "metadata": {},
   "outputs": [],
   "source": [
    "len(objs[0])"
   ]
  },
  {
   "cell_type": "code",
   "execution_count": null,
   "id": "8df67f4b",
   "metadata": {},
   "outputs": [],
   "source": [
    "ece_sharpness = []\n",
    "for obj, pkl in objs:\n",
    "    ece_sharpness.append((obj['te_ece_list_best'], obj['te_sharp_score_list_best'], pkl))"
   ]
  },
  {
   "cell_type": "code",
   "execution_count": null,
   "id": "cac2d895",
   "metadata": {},
   "outputs": [],
   "source": [
    "len(ece_sharpness)"
   ]
  },
  {
   "cell_type": "code",
   "execution_count": null,
   "id": "4dae466c",
   "metadata": {},
   "outputs": [],
   "source": [
    "import matplotlib.pyplot as plt\n",
    "\n",
    "for ece, sharpness, pkl in ece_sharpness:\n",
    "    plt.plot(ece, sharpness, label=pkl)\n",
    "    plt.title(\"Boston ECE vs Sharpness\")\n",
    "    plt.legend(loc=\"lower center\")"
   ]
  },
  {
   "cell_type": "code",
   "execution_count": null,
   "id": "1ae648ea",
   "metadata": {},
   "outputs": [],
   "source": [
    "from plots.plot_metrics import overlap_ece_sharpness\n",
    "from plots.plot_utils import load_pickle\n",
    "import os\n",
    "results_dir = \"results\"\n",
    "names = [\"batch_qr\", \"batch_int\", \"batch_cal\"]\n",
    "example_pkl = \"kin8nm_lossbatch_cal_ens1_bootFalse_resFalse_lnFalse_bnFalse_dr0.0_lr0.001_bs64.pkl\"\n",
    "example_pkls = [\"{}/{}\".format(results_dir, example_pkl.replace(\"batch_cal\", name)) for name in names]\n",
    "for pkl in example_pkls:\n",
    "    datas = [load_pickle(pkl) for pkl in example_pkls]\n",
    "    overlap_ece_sharpness(datas, example_pkls, show=True)"
   ]
  },
  {
   "cell_type": "code",
   "execution_count": 18,
   "id": "03bfa9f1",
   "metadata": {},
   "outputs": [],
   "source": [
    "from plots.plot_utils import load_pickle\n",
    "from data.fetch_data import get_uci_data\n",
    "from argparse import Namespace\n",
    "data = load_pickle(\"/home/scratch/yixiz/test/boston_lossbatch_cal_ens1_bootFalse_resFalse_lnFalse_bnFalse_dr0.0_lr0.001_bs64_nl2_hs64.pkl\")\n",
    "args = Namespace(data_dir=\"data/UCI_Datasets\", data=\"boston\", seed=0)\n",
    "dataset = get_uci_data(args)"
   ]
  },
  {
   "cell_type": "code",
   "execution_count": 26,
   "id": "d4404027",
   "metadata": {},
   "outputs": [
    {
     "data": {
      "text/plain": [
       "tensor(4.9238)"
      ]
     },
     "execution_count": 26,
     "metadata": {},
     "output_type": "execute_result"
    }
   ],
   "source": [
    "import torch\n",
    "y_al = dataset.y_al\n",
    "x_tr, x_va, x_te, y_tr, y_va, y_te, y_al = (\n",
    "    dataset.x_tr,\n",
    "    dataset.x_va,\n",
    "    dataset.x_te,\n",
    "    dataset.y_tr,\n",
    "    dataset.y_va,\n",
    "    dataset.y_te,\n",
    "    dataset.y_al,\n",
    ")\n",
    "y_range = torch.max(y_al) - torch.min(y_al)\n",
    "y_range"
   ]
  },
  {
   "cell_type": "code",
   "execution_count": 42,
   "id": "a326d871",
   "metadata": {},
   "outputs": [],
   "source": [
    "example_model = data['model_controlled'][0]\n",
    "quantiles = torch.tensor([0.02, 0.97])\n",
    "intervals = example_model.predict_q(x_te, quantiles)"
   ]
  },
  {
   "cell_type": "code",
   "execution_count": 45,
   "id": "021ecf9a",
   "metadata": {},
   "outputs": [
    {
     "data": {
      "text/plain": [
       "tensor(0.0949)"
      ]
     },
     "execution_count": 45,
     "metadata": {},
     "output_type": "execute_result"
    }
   ],
   "source": [
    "interval_lengths = intervals[:, 1] - intervals[:, 0]\n",
    "interval_lengths.mean() / y_range"
   ]
  },
  {
   "cell_type": "code",
   "execution_count": 47,
   "id": "c733b41b",
   "metadata": {},
   "outputs": [
    {
     "data": {
      "text/plain": [
       "0.09493224182174952"
      ]
     },
     "execution_count": 47,
     "metadata": {},
     "output_type": "execute_result"
    }
   ],
   "source": [
    "data['te_sharp_score_controlled'][0]"
   ]
  },
  {
   "cell_type": "code",
   "execution_count": null,
   "id": "2edb5a9f",
   "metadata": {},
   "outputs": [],
   "source": []
  }
 ],
 "metadata": {
  "kernelspec": {
   "display_name": "cali",
   "language": "python",
   "name": "python3"
  },
  "language_info": {
   "codemirror_mode": {
    "name": "ipython",
    "version": 3
   },
   "file_extension": ".py",
   "mimetype": "text/x-python",
   "name": "python",
   "nbconvert_exporter": "python",
   "pygments_lexer": "ipython3",
   "version": "3.10.18"
  }
 },
 "nbformat": 4,
 "nbformat_minor": 5
}
