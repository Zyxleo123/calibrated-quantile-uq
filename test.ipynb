{
 "cells": [
  {
   "cell_type": "code",
   "execution_count": 6,
   "id": "10122686",
   "metadata": {},
   "outputs": [],
   "source": [
    "from plots.plot_metrics import load_pickle\n",
    "data = load_pickle(\"boston_lossscaled_batch_cal_ens1_bootFalse_seed0_thres0.0-0.2.pkl\")"
   ]
  },
  {
   "cell_type": "code",
   "execution_count": 5,
   "id": "0317cd21",
   "metadata": {},
   "outputs": [
    {
     "name": "stdout",
     "output_type": "stream",
     "text": [
      "0.03977953352348144\n",
      "[None, None, None, None, 0.10031466365536425, 0.0965559548017981, 0.08497446999250241, 0.07137404965491916, 0.056669660892431965, 0.03977953352348144]\n"
     ]
    }
   ],
   "source": [
    "print(data['te_sharp_score'])\n",
    "print(data['te_sharp_score_list_best'])"
   ]
  },
  {
   "cell_type": "code",
   "execution_count": 7,
   "id": "adfc05e0",
   "metadata": {},
   "outputs": [
    {
     "data": {
      "text/plain": [
       "[None, None, None, None]"
      ]
     },
     "execution_count": 7,
     "metadata": {},
     "output_type": "execute_result"
    }
   ],
   "source": [
    "data['te_sharp_score_list_best']"
   ]
  },
  {
   "cell_type": "code",
   "execution_count": null,
   "id": "e1177eb7",
   "metadata": {},
   "outputs": [],
   "source": []
  }
 ],
 "metadata": {
  "kernelspec": {
   "display_name": "cali",
   "language": "python",
   "name": "python3"
  },
  "language_info": {
   "codemirror_mode": {
    "name": "ipython",
    "version": 3
   },
   "file_extension": ".py",
   "mimetype": "text/x-python",
   "name": "python",
   "nbconvert_exporter": "python",
   "pygments_lexer": "ipython3",
   "version": "3.10.18"
  }
 },
 "nbformat": 4,
 "nbformat_minor": 5
}
